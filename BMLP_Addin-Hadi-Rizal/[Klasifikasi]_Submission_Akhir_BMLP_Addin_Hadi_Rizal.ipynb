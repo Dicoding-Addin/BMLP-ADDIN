{
 "cells": [
  {
   "cell_type": "markdown",
   "metadata": {
    "id": "0tvAKGat01Sd"
   },
   "source": [
    "# **Penting**\n",
    "- Pastikan Anda melakukan Run All sebelum mengirimkan submission untuk memastikan seluruh cell berjalan dengan baik.\n",
    "- Hapus simbol pagar (#) jika Anda menerapkan kriteria tambahan\n",
    "- Biarkan simbol pagar (#) jika Anda tidak menerapkan kriteria tambahan"
   ]
  },
  {
   "cell_type": "markdown",
   "metadata": {
    "id": "fKADPWcFKlj3"
   },
   "source": [
    "# **1. Import Library**\n",
    "Pada tahap ini, Anda perlu mengimpor beberapa pustaka (library) Python yang dibutuhkan untuk analisis data dan pembangunan model machine learning."
   ]
  },
  {
   "cell_type": "code",
   "execution_count": 5,
   "metadata": {
    "id": "BlmvjLY9M4Yj"
   },
   "outputs": [],
   "source": [
    "#Type your code here\n",
    "import joblib\n",
    "import pandas as pd\n",
    "from sklearn.model_selection import train_test_split\n",
    "from sklearn.tree import DecisionTreeClassifier\n",
    "from sklearn.ensemble import RandomForestClassifier\n",
    "from sklearn.metrics import accuracy_score, precision_score, recall_score, f1_score\n",
    "from sklearn.model_selection import GridSearchCV"
   ]
  },
  {
   "cell_type": "markdown",
   "metadata": {
    "id": "f3YIEnAFKrKL"
   },
   "source": [
    "# **2. Memuat Dataset dari Hasil Clustering**\n",
    "Memuat dataset hasil clustering dari file CSV ke dalam variabel DataFrame."
   ]
  },
  {
   "cell_type": "code",
   "execution_count": 6,
   "metadata": {
    "id": "GHCGNTyrM5fS"
   },
   "outputs": [],
   "source": [
    "# Gunakan dataset hasil clustering yang memiliki fitur Target\n",
    "# Silakan gunakan dataset data_clustering jika tidak menerapkan Interpretasi Hasil Clustering [Advanced]\n",
    "# Silakan gunakan dataset data_clustering_inverse jika menerapkan Interpretasi Hasil Clustering [Advanced]\n",
    "data = pd.read_csv(\"data_clustering_inverse.csv\")"
   ]
  },
  {
   "cell_type": "code",
   "execution_count": 7,
   "metadata": {
    "colab": {
     "base_uri": "https://localhost:8080/",
     "height": 206
    },
    "id": "bCsep0NZ0LUf",
    "outputId": "a2749fac-8282-4320-a828-6ac5c5d78dc3"
   },
   "outputs": [
    {
     "data": {
      "text/html": [
       "<div>\n",
       "<style scoped>\n",
       "    .dataframe tbody tr th:only-of-type {\n",
       "        vertical-align: middle;\n",
       "    }\n",
       "\n",
       "    .dataframe tbody tr th {\n",
       "        vertical-align: top;\n",
       "    }\n",
       "\n",
       "    .dataframe thead th {\n",
       "        text-align: right;\n",
       "    }\n",
       "</style>\n",
       "<table border=\"1\" class=\"dataframe\">\n",
       "  <thead>\n",
       "    <tr style=\"text-align: right;\">\n",
       "      <th></th>\n",
       "      <th>TransactionAmount</th>\n",
       "      <th>TransactionType</th>\n",
       "      <th>Channel</th>\n",
       "      <th>CustomerAge</th>\n",
       "      <th>CustomerOccupation</th>\n",
       "      <th>TransactionDuration</th>\n",
       "      <th>AccountBalance</th>\n",
       "      <th>TransactionAmount_binned</th>\n",
       "      <th>CustomerAge_binned</th>\n",
       "      <th>Target</th>\n",
       "    </tr>\n",
       "  </thead>\n",
       "  <tbody>\n",
       "    <tr>\n",
       "      <th>0</th>\n",
       "      <td>14.09</td>\n",
       "      <td>1</td>\n",
       "      <td>0</td>\n",
       "      <td>70.0</td>\n",
       "      <td>0</td>\n",
       "      <td>81.0</td>\n",
       "      <td>5112.21</td>\n",
       "      <td>low</td>\n",
       "      <td>senior</td>\n",
       "      <td>2</td>\n",
       "    </tr>\n",
       "    <tr>\n",
       "      <th>1</th>\n",
       "      <td>376.24</td>\n",
       "      <td>1</td>\n",
       "      <td>0</td>\n",
       "      <td>68.0</td>\n",
       "      <td>0</td>\n",
       "      <td>141.0</td>\n",
       "      <td>13758.91</td>\n",
       "      <td>low</td>\n",
       "      <td>senior</td>\n",
       "      <td>2</td>\n",
       "    </tr>\n",
       "    <tr>\n",
       "      <th>2</th>\n",
       "      <td>126.29</td>\n",
       "      <td>1</td>\n",
       "      <td>2</td>\n",
       "      <td>19.0</td>\n",
       "      <td>3</td>\n",
       "      <td>56.0</td>\n",
       "      <td>1122.35</td>\n",
       "      <td>low</td>\n",
       "      <td>young</td>\n",
       "      <td>1</td>\n",
       "    </tr>\n",
       "    <tr>\n",
       "      <th>3</th>\n",
       "      <td>184.50</td>\n",
       "      <td>1</td>\n",
       "      <td>2</td>\n",
       "      <td>26.0</td>\n",
       "      <td>3</td>\n",
       "      <td>25.0</td>\n",
       "      <td>8569.06</td>\n",
       "      <td>low</td>\n",
       "      <td>young</td>\n",
       "      <td>1</td>\n",
       "    </tr>\n",
       "    <tr>\n",
       "      <th>4</th>\n",
       "      <td>13.45</td>\n",
       "      <td>0</td>\n",
       "      <td>2</td>\n",
       "      <td>45.0</td>\n",
       "      <td>3</td>\n",
       "      <td>198.0</td>\n",
       "      <td>7429.40</td>\n",
       "      <td>low</td>\n",
       "      <td>adult</td>\n",
       "      <td>1</td>\n",
       "    </tr>\n",
       "  </tbody>\n",
       "</table>\n",
       "</div>"
      ],
      "text/plain": [
       "   TransactionAmount  TransactionType  Channel  CustomerAge  \\\n",
       "0              14.09                1        0         70.0   \n",
       "1             376.24                1        0         68.0   \n",
       "2             126.29                1        2         19.0   \n",
       "3             184.50                1        2         26.0   \n",
       "4              13.45                0        2         45.0   \n",
       "\n",
       "   CustomerOccupation  TransactionDuration  AccountBalance  \\\n",
       "0                   0                 81.0         5112.21   \n",
       "1                   0                141.0        13758.91   \n",
       "2                   3                 56.0         1122.35   \n",
       "3                   3                 25.0         8569.06   \n",
       "4                   3                198.0         7429.40   \n",
       "\n",
       "  TransactionAmount_binned CustomerAge_binned  Target  \n",
       "0                      low             senior       2  \n",
       "1                      low             senior       2  \n",
       "2                      low              young       1  \n",
       "3                      low              young       1  \n",
       "4                      low              adult       1  "
      ]
     },
     "execution_count": 7,
     "metadata": {},
     "output_type": "execute_result"
    }
   ],
   "source": [
    "# Tampilkan 5 baris pertama dengan function head.\n",
    "data.head()"
   ]
  },
  {
   "cell_type": "markdown",
   "metadata": {
    "id": "KkPem5eWL2UP"
   },
   "source": [
    "# **3. Data Splitting**\n",
    "Tahap Data Splitting bertujuan untuk memisahkan dataset menjadi dua bagian: data latih (training set) dan data uji (test set)."
   ]
  },
  {
   "cell_type": "code",
   "execution_count": 8,
   "metadata": {
    "id": "OubAW-7ONKVj"
   },
   "outputs": [],
   "source": [
    "# Menggunakan train_test_split() untuk melakukan pembagian dataset.\n",
    "X = data.drop(columns=['Target', 'CustomerAge_binned', 'TransactionAmount_binned'])\n",
    "y = data['Target']\n",
    "\n",
    "x_train, x_test, y_train, y_test = train_test_split(X, y, test_size=0.2, random_state=1)"
   ]
  },
  {
   "cell_type": "code",
   "execution_count": 9,
   "metadata": {
    "colab": {
     "base_uri": "https://localhost:8080/"
    },
    "id": "YNCbR1JZv9D4",
    "outputId": "c7a553fe-5a22-4cd6-8ae8-d670f968d450"
   },
   "outputs": [
    {
     "name": "stdout",
     "output_type": "stream",
     "text": [
      "Jumlah data:  2399\n",
      "Jumlah data latih:  1919\n",
      "Jumlah data test:  480\n"
     ]
    }
   ],
   "source": [
    "# menghitung panjang/jumlah data\n",
    "print(\"Jumlah data: \",len(X))\n",
    "# menghitung panjang/jumlah data pada x_test\n",
    "print(\"Jumlah data latih: \",len(x_train))\n",
    "# menghitung panjang/jumlah data pada x_test\n",
    "print(\"Jumlah data test: \",len(x_test))"
   ]
  },
  {
   "cell_type": "markdown",
   "metadata": {
    "id": "IVPbB03CMhTT"
   },
   "source": [
    "# **4. Membangun Model Klasifikasi**\n",
    "Setelah memilih algoritma klasifikasi yang sesuai, langkah selanjutnya adalah melatih model menggunakan data latih.\n",
    "\n",
    "Berikut adalah rekomendasi tahapannya.\n",
    "1. Menggunakan algoritma klasifikasi yaitu Decision Tree.\n",
    "2. Latih model menggunakan data yang sudah dipisah."
   ]
  },
  {
   "cell_type": "code",
   "execution_count": 10,
   "metadata": {
    "id": "4JYxBe87NLDk"
   },
   "outputs": [],
   "source": [
    "# Buatlah model klasifikasi menggunakan Decision Tree\n",
    "modelDt = DecisionTreeClassifier().fit(x_train, y_train)"
   ]
  },
  {
   "cell_type": "code",
   "execution_count": 11,
   "metadata": {
    "colab": {
     "base_uri": "https://localhost:8080/"
    },
    "id": "P_AakAxghYv-",
    "outputId": "9435f40b-ca74-4e9a-e916-ff9894010c53"
   },
   "outputs": [
    {
     "data": {
      "text/plain": [
       "['decision_tree_model.h5']"
      ]
     },
     "execution_count": 11,
     "metadata": {},
     "output_type": "execute_result"
    }
   ],
   "source": [
    "# Menyimpan Model\n",
    "# import joblib\n",
    "# joblib.dump(model, 'decision_tree_model.h5')\n",
    "joblib.dump(modelDt, 'decision_tree_model.h5')"
   ]
  },
  {
   "cell_type": "markdown",
   "metadata": {
    "id": "epO4HhrzBXMg"
   },
   "source": [
    "# **5. Memenuhi Kriteria Skilled dan Advanced dalam Membangun Model Klasifikasi**\n",
    "\n"
   ]
  },
  {
   "cell_type": "markdown",
   "metadata": {
    "id": "DNOEZk24uiXu"
   },
   "source": [
    "**Biarkan kosong jika tidak menerapkan kriteria skilled atau advanced**"
   ]
  },
  {
   "cell_type": "code",
   "execution_count": 12,
   "metadata": {
    "id": "kB_8LIWMATl6"
   },
   "outputs": [],
   "source": [
    "# Melatih model menggunakan algoritma klasifikasi selain Decision Tree.\n",
    "modelRf = RandomForestClassifier().fit(x_train, y_train)"
   ]
  },
  {
   "cell_type": "code",
   "execution_count": 13,
   "metadata": {
    "colab": {
     "base_uri": "https://localhost:8080/",
     "height": 125
    },
    "id": "bRlKm5BVAT91",
    "outputId": "31a2f962-2d81-4a81-8c47-2059fdab7220"
   },
   "outputs": [
    {
     "data": {
      "text/html": [
       "<div>\n",
       "<style scoped>\n",
       "    .dataframe tbody tr th:only-of-type {\n",
       "        vertical-align: middle;\n",
       "    }\n",
       "\n",
       "    .dataframe tbody tr th {\n",
       "        vertical-align: top;\n",
       "    }\n",
       "\n",
       "    .dataframe thead th {\n",
       "        text-align: right;\n",
       "    }\n",
       "</style>\n",
       "<table border=\"1\" class=\"dataframe\">\n",
       "  <thead>\n",
       "    <tr style=\"text-align: right;\">\n",
       "      <th></th>\n",
       "      <th>Model</th>\n",
       "      <th>Accuracy</th>\n",
       "      <th>Precision</th>\n",
       "      <th>Recall</th>\n",
       "      <th>F1-Score</th>\n",
       "    </tr>\n",
       "  </thead>\n",
       "  <tbody>\n",
       "    <tr>\n",
       "      <th>0</th>\n",
       "      <td>Decision Tree (DT)</td>\n",
       "      <td>1.0</td>\n",
       "      <td>1.0</td>\n",
       "      <td>1.0</td>\n",
       "      <td>1.0</td>\n",
       "    </tr>\n",
       "    <tr>\n",
       "      <th>1</th>\n",
       "      <td>Random Forest (RF)</td>\n",
       "      <td>1.0</td>\n",
       "      <td>1.0</td>\n",
       "      <td>1.0</td>\n",
       "      <td>1.0</td>\n",
       "    </tr>\n",
       "  </tbody>\n",
       "</table>\n",
       "</div>"
      ],
      "text/plain": [
       "                Model  Accuracy  Precision  Recall  F1-Score\n",
       "0  Decision Tree (DT)       1.0        1.0     1.0       1.0\n",
       "1  Random Forest (RF)       1.0        1.0     1.0       1.0"
      ]
     },
     "execution_count": 13,
     "metadata": {},
     "output_type": "execute_result"
    }
   ],
   "source": [
    "# Menampilkan hasil evaluasi akurasi, presisi, recall, dan F1-Score pada seluruh algoritma yang sudah dibuat.\n",
    "def evaluate_model(model, X_test, y_test):\n",
    "  y_pred = model.predict(X_test)\n",
    "  results = {\n",
    "    'Accuracy': accuracy_score(y_test, y_pred),\n",
    "    'Precision': precision_score(y_test, y_pred, average='micro'),\n",
    "    'Recall': recall_score(y_test, y_pred, average='micro'),\n",
    "    'F1-Score': f1_score(y_test, y_pred, average='micro')\n",
    "  }\n",
    "  return results\n",
    "\n",
    "results = {\n",
    "  'Decision Tree (DT)': evaluate_model(modelDt, x_test, y_test),\n",
    "  'Random Forest (RF)': evaluate_model(modelRf, x_test, y_test)\n",
    "}\n",
    "\n",
    "summary_df = pd.DataFrame(columns=['Model', 'Accuracy', 'Precision', 'Recall', 'F1-Score'])\n",
    "\n",
    "rows = []\n",
    "for model_name, metrics in results.items():\n",
    "  rows.append({\n",
    "    'Model': model_name,\n",
    "    'Accuracy': metrics['Accuracy'],\n",
    "    'Precision': metrics['Precision'],\n",
    "    'Recall': metrics['Recall'],\n",
    "    'F1-Score': metrics['F1-Score']\n",
    "  })\n",
    "\n",
    "summary_df = pd.DataFrame(rows)\n",
    "\n",
    "summary_df"
   ]
  },
  {
   "cell_type": "code",
   "execution_count": 14,
   "metadata": {
    "colab": {
     "base_uri": "https://localhost:8080/"
    },
    "id": "dUPItkbXBNkO",
    "outputId": "d506e9f0-139f-47cf-db05-5a4c498b8a67"
   },
   "outputs": [
    {
     "data": {
      "text/plain": [
       "['explore_random_forest_classification.h5']"
      ]
     },
     "execution_count": 14,
     "metadata": {},
     "output_type": "execute_result"
    }
   ],
   "source": [
    "# Menyimpan Model Selain Decision Tree\n",
    "# Model ini bisa lebih dari satu\n",
    "# import joblib\n",
    "# joblib.dump(___, 'explore_<Nama Algoritma>_classification.h5')\n",
    "joblib.dump(modelRf, 'explore_random_forest_classification.h5')"
   ]
  },
  {
   "cell_type": "markdown",
   "metadata": {
    "id": "u23H2guj-h9h"
   },
   "source": [
    "Hyperparameter Tuning Model\n",
    "\n",
    "Pilih salah satu algoritma yang ingin Anda tuning"
   ]
  },
  {
   "cell_type": "code",
   "execution_count": 15,
   "metadata": {
    "colab": {
     "base_uri": "https://localhost:8080/"
    },
    "id": "dFCTxJJq-m-l",
    "outputId": "b4a5e747-4619-4fe5-a910-5ed5172e4722"
   },
   "outputs": [
    {
     "name": "stdout",
     "output_type": "stream",
     "text": [
      "Fitting 3 folds for each of 32 candidates, totalling 96 fits\n",
      "[CV] END max_depth=2, max_features=2, min_samples_leaf=1, min_samples_split=20, n_estimators=100; total time=   0.1s\n",
      "[CV] END max_depth=2, max_features=2, min_samples_leaf=1, min_samples_split=2, n_estimators=100; total time=   0.1s\n",
      "[CV] END max_depth=2, max_features=2, min_samples_leaf=1, min_samples_split=20, n_estimators=100; total time=   0.1s\n",
      "[CV] END max_depth=2, max_features=2, min_samples_leaf=1, min_samples_split=2, n_estimators=100; total time=   0.1s\n",
      "[CV] END max_depth=2, max_features=2, min_samples_leaf=1, min_samples_split=2, n_estimators=100; total time=   0.1s\n",
      "[CV] END max_depth=2, max_features=2, min_samples_leaf=20, min_samples_split=2, n_estimators=100; total time=   0.1s\n",
      "[CV] END max_depth=2, max_features=2, min_samples_leaf=1, min_samples_split=20, n_estimators=100; total time=   0.1s\n",
      "[CV] END max_depth=2, max_features=2, min_samples_leaf=20, min_samples_split=2, n_estimators=100; total time=   0.1s\n",
      "[CV] END max_depth=2, max_features=2, min_samples_leaf=20, min_samples_split=2, n_estimators=100; total time=   0.1s\n",
      "[CV] END max_depth=2, max_features=2, min_samples_leaf=1, min_samples_split=2, n_estimators=500; total time=   0.5s\n",
      "[CV] END max_depth=2, max_features=2, min_samples_leaf=1, min_samples_split=2, n_estimators=500; total time=   0.5s\n",
      "[CV] END max_depth=2, max_features=2, min_samples_leaf=1, min_samples_split=2, n_estimators=500; total time=   0.5s\n",
      "[CV] END max_depth=2, max_features=2, min_samples_leaf=20, min_samples_split=20, n_estimators=100; total time=   0.1s\n",
      "[CV] END max_depth=2, max_features=2, min_samples_leaf=1, min_samples_split=20, n_estimators=500; total time=   0.5s\n",
      "[CV] END max_depth=2, max_features=2, min_samples_leaf=20, min_samples_split=20, n_estimators=100; total time=   0.1s\n",
      "[CV] END max_depth=2, max_features=2, min_samples_leaf=1, min_samples_split=20, n_estimators=500; total time=   0.5s\n",
      "[CV] END max_depth=2, max_features=2, min_samples_leaf=1, min_samples_split=20, n_estimators=500; total time=   0.5s\n",
      "[CV] END max_depth=2, max_features=2, min_samples_leaf=20, min_samples_split=20, n_estimators=100; total time=   0.1s\n",
      "[CV] END max_depth=2, max_features=11, min_samples_leaf=1, min_samples_split=2, n_estimators=100; total time=   0.1s\n",
      "[CV] END max_depth=2, max_features=2, min_samples_leaf=20, min_samples_split=2, n_estimators=500; total time=   0.5s\n",
      "[CV] END max_depth=2, max_features=11, min_samples_leaf=1, min_samples_split=2, n_estimators=100; total time=   0.1s\n",
      "[CV] END max_depth=2, max_features=2, min_samples_leaf=20, min_samples_split=2, n_estimators=500; total time=   0.5s\n",
      "[CV] END max_depth=2, max_features=11, min_samples_leaf=1, min_samples_split=2, n_estimators=100; total time=   0.2s\n",
      "[CV] END max_depth=2, max_features=2, min_samples_leaf=20, min_samples_split=2, n_estimators=500; total time=   0.5s\n",
      "[CV] END max_depth=2, max_features=2, min_samples_leaf=20, min_samples_split=20, n_estimators=500; total time=   0.5s\n",
      "[CV] END max_depth=2, max_features=11, min_samples_leaf=1, min_samples_split=20, n_estimators=100; total time=   0.2s\n",
      "[CV] END max_depth=2, max_features=2, min_samples_leaf=20, min_samples_split=20, n_estimators=500; total time=   0.5s\n",
      "[CV] END max_depth=2, max_features=2, min_samples_leaf=20, min_samples_split=20, n_estimators=500; total time=   0.6s\n",
      "[CV] END max_depth=2, max_features=11, min_samples_leaf=1, min_samples_split=20, n_estimators=100; total time=   0.2s\n",
      "[CV] END max_depth=2, max_features=11, min_samples_leaf=1, min_samples_split=20, n_estimators=100; total time=   0.2s\n",
      "[CV] END max_depth=2, max_features=11, min_samples_leaf=20, min_samples_split=2, n_estimators=100; total time=   0.1s\n",
      "[CV] END max_depth=2, max_features=11, min_samples_leaf=20, min_samples_split=2, n_estimators=100; total time=   0.2s\n",
      "[CV] END max_depth=2, max_features=11, min_samples_leaf=20, min_samples_split=2, n_estimators=100; total time=   0.2s\n",
      "[CV] END max_depth=2, max_features=11, min_samples_leaf=1, min_samples_split=2, n_estimators=500; total time=   0.8s\n",
      "[CV] END max_depth=2, max_features=11, min_samples_leaf=1, min_samples_split=2, n_estimators=500; total time=   0.9s\n",
      "[CV] END max_depth=2, max_features=11, min_samples_leaf=1, min_samples_split=2, n_estimators=500; total time=   0.9s\n",
      "[CV] END max_depth=2, max_features=11, min_samples_leaf=20, min_samples_split=20, n_estimators=100; total time=   0.1s\n",
      "[CV] END max_depth=2, max_features=11, min_samples_leaf=1, min_samples_split=20, n_estimators=500; total time=   0.8s\n",
      "[CV] END max_depth=2, max_features=11, min_samples_leaf=20, min_samples_split=20, n_estimators=100; total time=   0.1s\n",
      "[CV] END max_depth=2, max_features=11, min_samples_leaf=1, min_samples_split=20, n_estimators=500; total time=   0.8s\n",
      "[CV] END max_depth=2, max_features=11, min_samples_leaf=1, min_samples_split=20, n_estimators=500; total time=   0.8s\n",
      "[CV] END max_depth=2, max_features=11, min_samples_leaf=20, min_samples_split=20, n_estimators=100; total time=   0.1s\n",
      "[CV] END max_depth=20, max_features=2, min_samples_leaf=1, min_samples_split=2, n_estimators=100; total time=   0.1s\n",
      "[CV] END max_depth=20, max_features=2, min_samples_leaf=1, min_samples_split=2, n_estimators=100; total time=   0.1s\n",
      "[CV] END max_depth=2, max_features=11, min_samples_leaf=20, min_samples_split=2, n_estimators=500; total time=   0.7s\n",
      "[CV] END max_depth=20, max_features=2, min_samples_leaf=1, min_samples_split=2, n_estimators=100; total time=   0.1s\n",
      "[CV] END max_depth=2, max_features=11, min_samples_leaf=20, min_samples_split=2, n_estimators=500; total time=   0.8s\n",
      "[CV] END max_depth=2, max_features=11, min_samples_leaf=20, min_samples_split=2, n_estimators=500; total time=   0.7s\n",
      "[CV] END max_depth=20, max_features=2, min_samples_leaf=1, min_samples_split=20, n_estimators=100; total time=   0.1s\n",
      "[CV] END max_depth=20, max_features=2, min_samples_leaf=1, min_samples_split=20, n_estimators=100; total time=   0.1s\n",
      "[CV] END max_depth=20, max_features=2, min_samples_leaf=1, min_samples_split=20, n_estimators=100; total time=   0.1s\n",
      "[CV] END max_depth=2, max_features=11, min_samples_leaf=20, min_samples_split=20, n_estimators=500; total time=   0.7s\n",
      "[CV] END max_depth=2, max_features=11, min_samples_leaf=20, min_samples_split=20, n_estimators=500; total time=   0.7s\n",
      "[CV] END max_depth=2, max_features=11, min_samples_leaf=20, min_samples_split=20, n_estimators=500; total time=   0.7s\n",
      "[CV] END max_depth=20, max_features=2, min_samples_leaf=1, min_samples_split=2, n_estimators=500; total time=   0.6s\n",
      "[CV] END max_depth=20, max_features=2, min_samples_leaf=20, min_samples_split=2, n_estimators=100; total time=   0.1s\n",
      "[CV] END max_depth=20, max_features=2, min_samples_leaf=20, min_samples_split=2, n_estimators=100; total time=   0.1s\n",
      "[CV] END max_depth=20, max_features=2, min_samples_leaf=20, min_samples_split=2, n_estimators=100; total time=   0.1s\n",
      "[CV] END max_depth=20, max_features=2, min_samples_leaf=1, min_samples_split=2, n_estimators=500; total time=   0.6s\n",
      "[CV] END max_depth=20, max_features=2, min_samples_leaf=1, min_samples_split=2, n_estimators=500; total time=   0.6s\n",
      "[CV] END max_depth=20, max_features=2, min_samples_leaf=20, min_samples_split=20, n_estimators=100; total time=   0.1s\n",
      "[CV] END max_depth=20, max_features=2, min_samples_leaf=20, min_samples_split=20, n_estimators=100; total time=   0.1s\n",
      "[CV] END max_depth=20, max_features=2, min_samples_leaf=20, min_samples_split=20, n_estimators=100; total time=   0.1s\n",
      "[CV] END max_depth=20, max_features=2, min_samples_leaf=1, min_samples_split=20, n_estimators=500; total time=   0.6s\n",
      "[CV] END max_depth=20, max_features=2, min_samples_leaf=1, min_samples_split=20, n_estimators=500; total time=   0.6s\n",
      "[CV] END max_depth=20, max_features=2, min_samples_leaf=1, min_samples_split=20, n_estimators=500; total time=   0.6s\n",
      "[CV] END max_depth=20, max_features=11, min_samples_leaf=1, min_samples_split=2, n_estimators=100; total time=   0.1s\n",
      "[CV] END max_depth=20, max_features=11, min_samples_leaf=1, min_samples_split=2, n_estimators=100; total time=   0.2s\n",
      "[CV] END max_depth=20, max_features=2, min_samples_leaf=20, min_samples_split=2, n_estimators=500; total time=   0.5s\n",
      "[CV] END max_depth=20, max_features=2, min_samples_leaf=20, min_samples_split=2, n_estimators=500; total time=   0.6s\n",
      "[CV] END max_depth=20, max_features=2, min_samples_leaf=20, min_samples_split=2, n_estimators=500; total time=   0.6s\n",
      "[CV] END max_depth=20, max_features=11, min_samples_leaf=1, min_samples_split=2, n_estimators=100; total time=   0.1s\n",
      "[CV] END max_depth=20, max_features=2, min_samples_leaf=20, min_samples_split=20, n_estimators=500; total time=   0.6s\n",
      "[CV] END max_depth=20, max_features=11, min_samples_leaf=1, min_samples_split=20, n_estimators=100; total time=   0.1s\n",
      "[CV] END max_depth=20, max_features=11, min_samples_leaf=1, min_samples_split=20, n_estimators=100; total time=   0.2s\n",
      "[CV] END max_depth=20, max_features=2, min_samples_leaf=20, min_samples_split=20, n_estimators=500; total time=   0.6s\n",
      "[CV] END max_depth=20, max_features=2, min_samples_leaf=20, min_samples_split=20, n_estimators=500; total time=   0.6s\n",
      "[CV] END max_depth=20, max_features=11, min_samples_leaf=1, min_samples_split=20, n_estimators=100; total time=   0.1s\n",
      "[CV] END max_depth=20, max_features=11, min_samples_leaf=20, min_samples_split=2, n_estimators=100; total time=   0.1s\n",
      "[CV] END max_depth=20, max_features=11, min_samples_leaf=20, min_samples_split=2, n_estimators=100; total time=   0.1s\n",
      "[CV] END max_depth=20, max_features=11, min_samples_leaf=20, min_samples_split=2, n_estimators=100; total time=   0.1s\n",
      "[CV] END max_depth=20, max_features=11, min_samples_leaf=1, min_samples_split=2, n_estimators=500; total time=   0.7s\n",
      "[CV] END max_depth=20, max_features=11, min_samples_leaf=1, min_samples_split=2, n_estimators=500; total time=   0.7s\n",
      "[CV] END max_depth=20, max_features=11, min_samples_leaf=1, min_samples_split=2, n_estimators=500; total time=   0.7s\n",
      "[CV] END max_depth=20, max_features=11, min_samples_leaf=20, min_samples_split=20, n_estimators=100; total time=   0.1s\n",
      "[CV] END max_depth=20, max_features=11, min_samples_leaf=20, min_samples_split=20, n_estimators=100; total time=   0.2s\n",
      "[CV] END max_depth=20, max_features=11, min_samples_leaf=1, min_samples_split=20, n_estimators=500; total time=   0.7s\n",
      "[CV] END max_depth=20, max_features=11, min_samples_leaf=1, min_samples_split=20, n_estimators=500; total time=   0.7s\n",
      "[CV] END max_depth=20, max_features=11, min_samples_leaf=20, min_samples_split=20, n_estimators=100; total time=   0.1s\n",
      "[CV] END max_depth=20, max_features=11, min_samples_leaf=1, min_samples_split=20, n_estimators=500; total time=   0.8s\n",
      "[CV] END max_depth=20, max_features=11, min_samples_leaf=20, min_samples_split=2, n_estimators=500; total time=   0.7s\n",
      "[CV] END max_depth=20, max_features=11, min_samples_leaf=20, min_samples_split=2, n_estimators=500; total time=   0.7s\n",
      "[CV] END max_depth=20, max_features=11, min_samples_leaf=20, min_samples_split=2, n_estimators=500; total time=   0.7s\n",
      "[CV] END max_depth=20, max_features=11, min_samples_leaf=20, min_samples_split=20, n_estimators=500; total time=   0.7s\n",
      "[CV] END max_depth=20, max_features=11, min_samples_leaf=20, min_samples_split=20, n_estimators=500; total time=   0.7s\n",
      "[CV] END max_depth=20, max_features=11, min_samples_leaf=20, min_samples_split=20, n_estimators=500; total time=   0.7s\n",
      "Best parameters (Grid Search): {'max_depth': 20, 'max_features': 2, 'min_samples_leaf': 1, 'min_samples_split': 2, 'n_estimators': 100}\n"
     ]
    }
   ],
   "source": [
    "# Lakukan Hyperparameter Tuning dan Latih ulang.\n",
    "# Mengikuti sampai akhir, walaupun akruasi sudah 100%\n",
    "params = {\n",
    "    'n_estimators': [100, 500],\n",
    "    'max_depth': [2, 20],\n",
    "    'min_samples_split': [2, 20],\n",
    "    'min_samples_leaf': [1, 20],\n",
    "    'max_features': [2, 11]\n",
    "}\n",
    "\n",
    "modelRfForTuning = RandomForestClassifier(random_state=42)\n",
    "\n",
    "grid_search = GridSearchCV(estimator=modelRfForTuning, param_grid=params, cv=3, n_jobs=-1, verbose=2)\n",
    "grid_search.fit(x_train, y_train)\n",
    "\n",
    "print(f\"Best parameters (Grid Search): {grid_search.best_params_}\")\n",
    "best_modelRf = grid_search.best_estimator_"
   ]
  },
  {
   "cell_type": "code",
   "execution_count": 16,
   "metadata": {
    "colab": {
     "base_uri": "https://localhost:8080/"
    },
    "id": "7UJNcVP--n7S",
    "outputId": "b962503b-761b-4242-a84d-91bd7ec81c8f"
   },
   "outputs": [
    {
     "data": {
      "text/plain": [
       "['tuning_classification.h5']"
      ]
     },
     "execution_count": 16,
     "metadata": {},
     "output_type": "execute_result"
    }
   ],
   "source": [
    "# Menyimpan Model hasil tuning\n",
    "# import joblib\n",
    "# joblib.dump(model_dt, 'tuning_classification.h5')\n",
    "joblib.dump(best_modelRf, 'tuning_classification.h5')"
   ]
  }
 ],
 "metadata": {
  "colab": {
   "provenance": []
  },
  "kernelspec": {
   "display_name": "Python [conda env:base] *",
   "language": "python",
   "name": "conda-base-py"
  },
  "language_info": {
   "codemirror_mode": {
    "name": "ipython",
    "version": 3
   },
   "file_extension": ".py",
   "mimetype": "text/x-python",
   "name": "python",
   "nbconvert_exporter": "python",
   "pygments_lexer": "ipython3",
   "version": "3.12.7"
  }
 },
 "nbformat": 4,
 "nbformat_minor": 4
}
